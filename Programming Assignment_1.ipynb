{
 "cells": [
  {
   "cell_type": "code",
   "execution_count": null,
   "id": "0d75de86",
   "metadata": {},
   "outputs": [],
   "source": [
    "## Python Programming Assignment 1"
   ]
  },
  {
   "cell_type": "code",
   "execution_count": 7,
   "id": "c51a2490",
   "metadata": {},
   "outputs": [
    {
     "name": "stdout",
     "output_type": "stream",
     "text": [
      "Hello Python\n"
     ]
    }
   ],
   "source": [
    "## 1. Write a Python program to print Hello Python?\n",
    "\n",
    "print(\"Hello Python\")"
   ]
  },
  {
   "cell_type": "code",
   "execution_count": 13,
   "id": "243fd979",
   "metadata": {},
   "outputs": [
    {
     "name": "stdout",
     "output_type": "stream",
     "text": [
      "6\n",
      "0.5\n"
     ]
    }
   ],
   "source": [
    "## 2. Write a Python program to do arithmetical operations addition and division.?\n",
    "\n",
    "def add(a,b):\n",
    "    return a+b\n",
    "\n",
    "def div(a,b):\n",
    "    return a/b\n",
    "\n",
    "a=2\n",
    "b=4\n",
    "print(add(a,b))\n",
    "print(div(a,b))"
   ]
  },
  {
   "cell_type": "code",
   "execution_count": 14,
   "id": "687c3bd1",
   "metadata": {},
   "outputs": [
    {
     "name": "stdout",
     "output_type": "stream",
     "text": [
      "4.0\n"
     ]
    }
   ],
   "source": [
    "## 3. Write a Python program to find the area of a triangle?\n",
    "\n",
    "# Area of a triangle formula: 1/2(base*height)\n",
    "\n",
    "def area_of_triangle(base,height):\n",
    "    return 1/2*(base*height)\n",
    "\n",
    "a=2\n",
    "b=4\n",
    "\n",
    "print(area_of_triangle(a,b))"
   ]
  },
  {
   "cell_type": "code",
   "execution_count": 16,
   "id": "810cfa07",
   "metadata": {},
   "outputs": [
    {
     "name": "stdout",
     "output_type": "stream",
     "text": [
      "(7, 3)\n"
     ]
    }
   ],
   "source": [
    "## 4. Write a Python program to swap two variables?\n",
    "\n",
    "def swap(swap1,swap2):\n",
    "    swap3 = swap1\n",
    "    swap1 = swap2\n",
    "    swap2 = swap3\n",
    "    return swap1,swap2\n",
    "\n",
    "a = 3\n",
    "b = 7\n",
    "\n",
    "print(swap(a,b))"
   ]
  },
  {
   "cell_type": "code",
   "execution_count": 20,
   "id": "b55ca07c",
   "metadata": {},
   "outputs": [
    {
     "name": "stdout",
     "output_type": "stream",
     "text": [
      "8\n"
     ]
    }
   ],
   "source": [
    "## 5. Write a Python program to generate a random number?\n",
    "\n",
    "import numpy as np\n",
    "def random():\n",
    "    return np.random.randint(0,9)\n",
    "\n",
    "print(random())"
   ]
  }
 ],
 "metadata": {
  "kernelspec": {
   "display_name": "Python 3 (ipykernel)",
   "language": "python",
   "name": "python3"
  },
  "language_info": {
   "codemirror_mode": {
    "name": "ipython",
    "version": 3
   },
   "file_extension": ".py",
   "mimetype": "text/x-python",
   "name": "python",
   "nbconvert_exporter": "python",
   "pygments_lexer": "ipython3",
   "version": "3.9.7"
  }
 },
 "nbformat": 4,
 "nbformat_minor": 5
}
