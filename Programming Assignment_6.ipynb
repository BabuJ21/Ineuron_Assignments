{
 "cells": [
  {
   "cell_type": "markdown",
   "id": "68201363",
   "metadata": {},
   "source": [
    "# Programming Assignment_6"
   ]
  },
  {
   "cell_type": "code",
   "execution_count": 3,
   "id": "334436db",
   "metadata": {},
   "outputs": [
    {
     "name": "stdout",
     "output_type": "stream",
     "text": [
      "Enter the number of elements in Fibonacci sequence: 20\n",
      "The Fibonacci sequence of 20 elements is:  [1, 1, 2, 3, 5, 8, 13, 21, 34, 55, 89, 144, 233, 377, 610, 987, 1597, 2584, 4181, 6765]\n"
     ]
    }
   ],
   "source": [
    "# 1. Write a Python Program to Display Fibonacci Sequence Using Recursion?\n",
    "\n",
    "def fibonacci(n):\n",
    "    a = 0;  b = 1; l = []\n",
    "    for i in range(1,n+1):\n",
    "        a,b = b, a+b\n",
    "        l.append(a)\n",
    "    return l\n",
    "\n",
    "a = int(input(\"Enter the number of elements in Fibonacci sequence: \"))\n",
    "print(\"The Fibonacci sequence of {} elements is: \".format(a), fibonacci(a))"
   ]
  },
  {
   "cell_type": "code",
   "execution_count": 4,
   "id": "e0204870",
   "metadata": {},
   "outputs": [
    {
     "name": "stdout",
     "output_type": "stream",
     "text": [
      "Enter the number to find factorial: 5\n",
      "The Factorial of 5! is:  120\n"
     ]
    }
   ],
   "source": [
    "# 2. Write a Python Program to Find Factorial of Number Using Recursion?\n",
    "\n",
    "def fact(n):\n",
    "    count = 1\n",
    "    for i in range(1,n+1):\n",
    "        count = count*i\n",
    "    return count\n",
    "\n",
    "a = int(input(\"Enter the number to find factorial: \"))\n",
    "print(\"The Factorial of {}! is: \".format(a), fact(a))"
   ]
  },
  {
   "cell_type": "code",
   "execution_count": 6,
   "id": "880781f1",
   "metadata": {},
   "outputs": [
    {
     "name": "stdout",
     "output_type": "stream",
     "text": [
      "Enter your weight: 70\n",
      "Enter the height: 1.79832\n",
      "The BMI for your 1.79832m height and 70.0kg weight is:  21.64532402096181\n"
     ]
    }
   ],
   "source": [
    "# 3. Write a Python Program to calculate your Body Mass Index?\n",
    "\n",
    "def Body_Mass_Index(weight, height):\n",
    "    BMI = weight/height**2\n",
    "    return BMI\n",
    "\n",
    "a = float(input(\"Enter your weight: \"))\n",
    "b = float(input(\"Enter the height: \"))\n",
    "print(\"The BMI for your {}m height and {}kg weight is: \".format(b,a), Body_Mass_Index(a,b))"
   ]
  },
  {
   "cell_type": "code",
   "execution_count": 16,
   "id": "41818eb0",
   "metadata": {},
   "outputs": [
    {
     "name": "stdout",
     "output_type": "stream",
     "text": [
      "Enter the value of b: 1\n",
      "The natural logarithmic of 1.0 is:  0.0\n"
     ]
    }
   ],
   "source": [
    "# 4. Write a Python Program to calculate the natural logarithm of any number?\n",
    "\n",
    "import math\n",
    "def log_value(a):\n",
    "    return math.log(a)\n",
    "\n",
    "b = float(input(\"Enter the value of b: \"))\n",
    "print(\"The natural logarithmic of {} is: \".format(b), log_value(b))"
   ]
  },
  {
   "cell_type": "code",
   "execution_count": 21,
   "id": "0ff12041",
   "metadata": {},
   "outputs": [
    {
     "name": "stdout",
     "output_type": "stream",
     "text": [
      "Enter the value of a: 5\n",
      "The cube sum of first 5 natural numbers is:  225\n"
     ]
    }
   ],
   "source": [
    "# 5. Write a Python Program for cube sum of first n natural numbers?\n",
    "\n",
    "def cube_sum_n(n):\n",
    "    count = 0\n",
    "    for i in range(1, n+1):\n",
    "        count = count+i**3\n",
    "    return count\n",
    "\n",
    "a = int(input(\"Enter the value of a: \"))\n",
    "print(\"The cube sum of first {} natural numbers is: \".format(a), cube_sum_n(a))"
   ]
  }
 ],
 "metadata": {
  "kernelspec": {
   "display_name": "Python 3 (ipykernel)",
   "language": "python",
   "name": "python3"
  },
  "language_info": {
   "codemirror_mode": {
    "name": "ipython",
    "version": 3
   },
   "file_extension": ".py",
   "mimetype": "text/x-python",
   "name": "python",
   "nbconvert_exporter": "python",
   "pygments_lexer": "ipython3",
   "version": "3.9.7"
  }
 },
 "nbformat": 4,
 "nbformat_minor": 5
}
