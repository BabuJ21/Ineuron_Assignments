{
 "cells": [
  {
   "cell_type": "markdown",
   "id": "3ced6046",
   "metadata": {},
   "source": [
    "# Programming Assignment 2"
   ]
  },
  {
   "cell_type": "code",
   "execution_count": 13,
   "id": "91065072",
   "metadata": {},
   "outputs": [
    {
     "name": "stdout",
     "output_type": "stream",
     "text": [
      "Enter the Kilometers to convert into miles: 5\n",
      "3.106855\n"
     ]
    }
   ],
   "source": [
    "## 1. Write a Python program to convert kilometers to miles?\n",
    "\n",
    "# Formula to convert kilometers to miles : 1KM = 0.621371 Miles\n",
    "\n",
    "def miles(Kilometers):\n",
    "    return Kilometers*0.621371\n",
    "\n",
    "a = float(input(\"Enter the Kilometers to convert into miles: \"))\n",
    "print(miles(a))"
   ]
  },
  {
   "cell_type": "code",
   "execution_count": 20,
   "id": "3e422d2a",
   "metadata": {},
   "outputs": [
    {
     "name": "stdout",
     "output_type": "stream",
     "text": [
      "Enter the celsius to convert to fahrenheit: 5\n",
      "41.0\n"
     ]
    }
   ],
   "source": [
    "## 2. Write a Python program to convert Celsius to Fahrenheit?\n",
    "\n",
    "## formula to convert to celsius to fahrenheit: 0 degree C = (0°C × 9/5) + 32\n",
    "\n",
    "def fahrenheit(celsius):\n",
    "    return celsius*(9/5)+32\n",
    "\n",
    "a = float(input(\"Enter the celsius to convert to fahrenheit: \"))\n",
    "print(fahrenheit(a))"
   ]
  },
  {
   "cell_type": "code",
   "execution_count": 35,
   "id": "e5d41501",
   "metadata": {},
   "outputs": [
    {
     "name": "stdout",
     "output_type": "stream",
     "text": [
      "Enter the year to display the calendar: 2022\n",
      "Enter the month to display the calendar: 6\n",
      "                                  2022\n",
      "\n",
      "      January                   February                   March\n",
      "Mo Tu We Th Fr Sa Su      Mo Tu We Th Fr Sa Su      Mo Tu We Th Fr Sa Su\n",
      "                1  2          1  2  3  4  5  6          1  2  3  4  5  6\n",
      " 3  4  5  6  7  8  9       7  8  9 10 11 12 13       7  8  9 10 11 12 13\n",
      "10 11 12 13 14 15 16      14 15 16 17 18 19 20      14 15 16 17 18 19 20\n",
      "17 18 19 20 21 22 23      21 22 23 24 25 26 27      21 22 23 24 25 26 27\n",
      "24 25 26 27 28 29 30      28                        28 29 30 31\n",
      "31\n",
      "\n",
      "       April                      May                       June\n",
      "Mo Tu We Th Fr Sa Su      Mo Tu We Th Fr Sa Su      Mo Tu We Th Fr Sa Su\n",
      "             1  2  3                         1             1  2  3  4  5\n",
      " 4  5  6  7  8  9 10       2  3  4  5  6  7  8       6  7  8  9 10 11 12\n",
      "11 12 13 14 15 16 17       9 10 11 12 13 14 15      13 14 15 16 17 18 19\n",
      "18 19 20 21 22 23 24      16 17 18 19 20 21 22      20 21 22 23 24 25 26\n",
      "25 26 27 28 29 30         23 24 25 26 27 28 29      27 28 29 30\n",
      "                          30 31\n",
      "\n",
      "        July                     August                  September\n",
      "Mo Tu We Th Fr Sa Su      Mo Tu We Th Fr Sa Su      Mo Tu We Th Fr Sa Su\n",
      "             1  2  3       1  2  3  4  5  6  7                1  2  3  4\n",
      " 4  5  6  7  8  9 10       8  9 10 11 12 13 14       5  6  7  8  9 10 11\n",
      "11 12 13 14 15 16 17      15 16 17 18 19 20 21      12 13 14 15 16 17 18\n",
      "18 19 20 21 22 23 24      22 23 24 25 26 27 28      19 20 21 22 23 24 25\n",
      "25 26 27 28 29 30 31      29 30 31                  26 27 28 29 30\n",
      "\n",
      "      October                   November                  December\n",
      "Mo Tu We Th Fr Sa Su      Mo Tu We Th Fr Sa Su      Mo Tu We Th Fr Sa Su\n",
      "                1  2          1  2  3  4  5  6                1  2  3  4\n",
      " 3  4  5  6  7  8  9       7  8  9 10 11 12 13       5  6  7  8  9 10 11\n",
      "10 11 12 13 14 15 16      14 15 16 17 18 19 20      12 13 14 15 16 17 18\n",
      "17 18 19 20 21 22 23      21 22 23 24 25 26 27      19 20 21 22 23 24 25\n",
      "24 25 26 27 28 29 30      28 29 30                  26 27 28 29 30 31\n",
      "31\n",
      "\n",
      "\n",
      " \n",
      "\n",
      "     June 2022\n",
      "Mo Tu We Th Fr Sa Su\n",
      "       1  2  3  4  5\n",
      " 6  7  8  9 10 11 12\n",
      "13 14 15 16 17 18 19\n",
      "20 21 22 23 24 25 26\n",
      "27 28 29 30\n",
      "\n"
     ]
    }
   ],
   "source": [
    "## 3. Write a Python program to display calendar?\n",
    "\n",
    "import calendar as cal\n",
    "\n",
    "# To print the calendar with year\n",
    "def calendar_year(yyyy):\n",
    "    return cal.calendar(yyyy)\n",
    "\n",
    "def calendar_month(yyyy,mm):\n",
    "    return cal.month(yyyy,mm)\n",
    "\n",
    "year = int(input(\"Enter the year to display the calendar: \"))\n",
    "month = int(input(\"Enter the month to display the calendar: \"))\n",
    "\n",
    "# To display calendar for the whole year\n",
    "print(calendar_year(year))\n",
    "print(\"\\n\",\"\\n\")\n",
    "\n",
    "# To display the calendar for the specific month and year\n",
    "print(calendar_month(year,month))"
   ]
  },
  {
   "cell_type": "code",
   "execution_count": 35,
   "id": "def190b5",
   "metadata": {},
   "outputs": [
    {
     "name": "stdout",
     "output_type": "stream",
     "text": [
      "Enter the value of a: 2\n",
      "Enter the value of b: 2\n",
      "Enter the value of c: 1\n",
      "-4\n",
      "0.5\n",
      "roots are complex: \n",
      "-2.0 +j 0.5\n",
      "-2.0 -j 0.5\n"
     ]
    }
   ],
   "source": [
    "## 4. Write a Python program to solve quadratic equation?\n",
    "\n",
    "import math\n",
    "def quadratic(m,n,o):\n",
    "    \n",
    "    x = n*n - 4*m*o\n",
    "    print(x)\n",
    "    z = math.sqrt(abs(x)) / (2*m)\n",
    "    print(z)\n",
    "    \n",
    "    if x < 0:  # roots are complex\n",
    "        y = (-n / 2*m) \n",
    "        y1 = (-n / 2*m) \n",
    "        print(\"roots are complex: \")\n",
    "        print(y,\"+j\",z)\n",
    "        print(y,\"-j\",z)\n",
    "    elif x == 0:  # roots are same so eliminating the b^2 - 4ac part\n",
    "        y = -n / 2*m\n",
    "        print(\"roots are same: \")\n",
    "        print(y)\n",
    "    \n",
    "    else:  # roots are real and different\n",
    "        y = (-n/2*m + z)\n",
    "        y1 = (-n/2*m -z)\n",
    "        print(\"roots are real and different: \")\n",
    "        print(y,y1)\n",
    "        \n",
    "a = int(input(\"Enter the value of a: \"))\n",
    "b = int(input(\"Enter the value of b: \"))\n",
    "c = int(input(\"Enter the value of c: \"))\n",
    "\n",
    "quadratic(a,b,c)"
   ]
  },
  {
   "cell_type": "code",
   "execution_count": 47,
   "id": "46ce75b1",
   "metadata": {},
   "outputs": [
    {
     "name": "stdout",
     "output_type": "stream",
     "text": [
      "Enter the value of a: 51\n",
      "Enter the value of b: 52\n"
     ]
    },
    {
     "data": {
      "text/plain": [
       "(52, 51)"
      ]
     },
     "execution_count": 47,
     "metadata": {},
     "output_type": "execute_result"
    }
   ],
   "source": [
    "## 5. Write a Python program to swap two variables without temp variable?\n",
    "\n",
    "def swap(x,y):\n",
    "    x = x+y\n",
    "    y = x-y\n",
    "    x = x-y\n",
    "    return x,y\n",
    "\n",
    "a = int(input(\"Enter the value of a: \"))\n",
    "b = int(input(\"Enter the value of b: \"))\n",
    "swap(a,b)"
   ]
  }
 ],
 "metadata": {
  "kernelspec": {
   "display_name": "Python 3 (ipykernel)",
   "language": "python",
   "name": "python3"
  },
  "language_info": {
   "codemirror_mode": {
    "name": "ipython",
    "version": 3
   },
   "file_extension": ".py",
   "mimetype": "text/x-python",
   "name": "python",
   "nbconvert_exporter": "python",
   "pygments_lexer": "ipython3",
   "version": "3.9.7"
  }
 },
 "nbformat": 4,
 "nbformat_minor": 5
}
