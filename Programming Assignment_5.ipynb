{
 "cells": [
  {
   "cell_type": "markdown",
   "id": "a779c399",
   "metadata": {},
   "source": [
    "# Programming Assignment_5"
   ]
  },
  {
   "cell_type": "code",
   "execution_count": 14,
   "id": "20304b08",
   "metadata": {},
   "outputs": [
    {
     "name": "stdout",
     "output_type": "stream",
     "text": [
      "Enter the value of a: 24\n",
      "Enter the value of b: 48\n"
     ]
    },
    {
     "data": {
      "text/plain": [
       "48"
      ]
     },
     "execution_count": 14,
     "metadata": {},
     "output_type": "execute_result"
    }
   ],
   "source": [
    "# 1. Write a Python Program to Find LCM?\n",
    "\n",
    "def lcm(x,y):\n",
    "    if x > y:\n",
    "        c = x\n",
    "    else:\n",
    "        c = y\n",
    "        \n",
    "    while(True):\n",
    "        if (c % x == 0) and (c % y == 0):\n",
    "            lcm = c\n",
    "            break\n",
    "        c = c+1    \n",
    "    return lcm\n",
    "    \n",
    "    \n",
    "a = int(input(\"Enter the value of a: \"))\n",
    "b = int(input(\"Enter the value of b: \"))\n",
    "lcm(a,b)"
   ]
  },
  {
   "cell_type": "code",
   "execution_count": 38,
   "id": "c2088997",
   "metadata": {},
   "outputs": [
    {
     "name": "stdout",
     "output_type": "stream",
     "text": [
      "Enter the value of a: 100\n",
      "Enter the value of b: 300\n"
     ]
    },
    {
     "data": {
      "text/plain": [
       "100"
      ]
     },
     "execution_count": 38,
     "metadata": {},
     "output_type": "execute_result"
    }
   ],
   "source": [
    "# 2. Write a Python Program to Find HCF?\n",
    "\n",
    "# first way:\n",
    "\n",
    "def hcf(x,y):\n",
    "    if x > y:\n",
    "        c = y\n",
    "    else:\n",
    "        c = x\n",
    "        \n",
    "    for i in range(1,c+1):\n",
    "        if (x % i == 0) and (y % i == 0):\n",
    "            hcf = i    \n",
    "    return hcf\n",
    "    \n",
    "    \n",
    "a = int(input(\"Enter the value of a: \"))\n",
    "b = int(input(\"Enter the value of b: \"))\n",
    "hcf(a,b)"
   ]
  },
  {
   "cell_type": "code",
   "execution_count": 39,
   "id": "18b37df6",
   "metadata": {},
   "outputs": [
    {
     "name": "stdout",
     "output_type": "stream",
     "text": [
      "Enter the value of a: 100\n",
      "Enter the value of b: 300\n"
     ]
    },
    {
     "data": {
      "text/plain": [
       "100.0"
      ]
     },
     "execution_count": 39,
     "metadata": {},
     "output_type": "execute_result"
    }
   ],
   "source": [
    "# Another way: (HCF = A*B/LCM)\n",
    "\n",
    "def hcf(x,y):\n",
    "    if x > y:\n",
    "        c = x\n",
    "    else:\n",
    "        c = y\n",
    "        \n",
    "    while(True):\n",
    "        if (c % x == 0) and (c % y == 0):\n",
    "            lcm = c\n",
    "            break\n",
    "        c = c+1    \n",
    "    hcf = (x*y)/lcm\n",
    "    return hcf\n",
    "    \n",
    "a = int(input(\"Enter the value of a: \"))\n",
    "b = int(input(\"Enter the value of b: \"))\n",
    "hcf(a,b)\n"
   ]
  },
  {
   "cell_type": "code",
   "execution_count": 44,
   "id": "b95ddb4f",
   "metadata": {},
   "outputs": [
    {
     "name": "stdout",
     "output_type": "stream",
     "text": [
      "Enter the decimal number: 10\n",
      "The Binary value of 10 is 0b1010\n",
      "The Octal value of 10 is 0o12\n",
      "The Hexadecimal value of 10 is 0xa\n"
     ]
    }
   ],
   "source": [
    "# 3. Write a Python Program to Convert Decimal to Binary, Octal and Hexadecimal?\n",
    "\n",
    "def convert(decimal):\n",
    "    Binary = bin(decimal)\n",
    "    octal = oct(decimal)\n",
    "    Hexadecimal = hex(decimal)\n",
    "    print(\"The Binary value of {} is\".format(decimal), Binary)\n",
    "    print(\"The Octal value of {} is\".format(decimal), octal)\n",
    "    print(\"The Hexadecimal value of {} is\".format(decimal), Hexadecimal)\n",
    "\n",
    "a = int(input(\"Enter the decimal number: \"))\n",
    "convert(a)"
   ]
  },
  {
   "cell_type": "code",
   "execution_count": 73,
   "id": "79a36c3d",
   "metadata": {},
   "outputs": [
    {
     "data": {
      "text/plain": [
       "97"
      ]
     },
     "execution_count": 73,
     "metadata": {},
     "output_type": "execute_result"
    }
   ],
   "source": [
    "# 4. Write a Python Program To Find ASCII value of a character?\n",
    "\n",
    "def ASCII(a):\n",
    "    return ord(a)  ## ord to get the ASCII values and chr to get the corresponding characters from ASCII values\n",
    "    print(chr(97))\n",
    "    \n",
    "a = 'a'\n",
    "ASCII(a)"
   ]
  },
  {
   "cell_type": "code",
   "execution_count": 78,
   "id": "9be99f13",
   "metadata": {},
   "outputs": [
    {
     "name": "stdout",
     "output_type": "stream",
     "text": [
      "Enter the value of x: 10\n",
      "Enter the value of y: 200\n",
      "The Addition of x and y:  210.0\n",
      "The Subtraction of x and y:  -190.0\n",
      "The Multiplication of x and y:  2000.0\n",
      "The Division of x and y:  0.05\n"
     ]
    }
   ],
   "source": [
    "# 5. Write a Python Program to Make a Simple Calculator with 4 basic mathematical operations?\n",
    "\n",
    "class cal:\n",
    "    def __init__(o,a,b):\n",
    "        o.a = a\n",
    "        o.b = b\n",
    "        \n",
    "    def Addition(o):\n",
    "        return o.a+o.b\n",
    "    def subtraction(m):\n",
    "        return m.a-m.b\n",
    "    def Multiplication(s):\n",
    "        return s.a*s.b\n",
    "    def division(e):\n",
    "        return e.a/e.b\n",
    "\n",
    "x = float(input(\"Enter the value of x: \"))\n",
    "y = float(input(\"Enter the value of y: \"))\n",
    "s = cal(x,y)\n",
    "print(\"The Addition of x and y: \", s.Addition())\n",
    "print(\"The Subtraction of x and y: \", s.subtraction())\n",
    "print(\"The Multiplication of x and y: \", s.Multiplication())\n",
    "print(\"The Division of x and y: \", s.division())"
   ]
  },
  {
   "cell_type": "code",
   "execution_count": null,
   "id": "9894ac96",
   "metadata": {},
   "outputs": [],
   "source": []
  }
 ],
 "metadata": {
  "kernelspec": {
   "display_name": "Python 3 (ipykernel)",
   "language": "python",
   "name": "python3"
  },
  "language_info": {
   "codemirror_mode": {
    "name": "ipython",
    "version": 3
   },
   "file_extension": ".py",
   "mimetype": "text/x-python",
   "name": "python",
   "nbconvert_exporter": "python",
   "pygments_lexer": "ipython3",
   "version": "3.9.7"
  }
 },
 "nbformat": 4,
 "nbformat_minor": 5
}
