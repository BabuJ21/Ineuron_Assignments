{
 "cells": [
  {
   "cell_type": "markdown",
   "id": "fee06789",
   "metadata": {},
   "source": [
    "# Programming Assignment_4"
   ]
  },
  {
   "cell_type": "code",
   "execution_count": 9,
   "id": "3f9702de",
   "metadata": {},
   "outputs": [
    {
     "name": "stdout",
     "output_type": "stream",
     "text": [
      "Enter the number to find factorial of a number: 5\n"
     ]
    },
    {
     "data": {
      "text/plain": [
       "120"
      ]
     },
     "execution_count": 9,
     "metadata": {},
     "output_type": "execute_result"
    }
   ],
   "source": [
    "# 1. Write a Python Program to Find the Factorial of a Number?\n",
    "\n",
    "def factorial(n):\n",
    "    c = 1\n",
    "    for i in range(n,1,-1):\n",
    "        c = i*c\n",
    "    return c\n",
    "\n",
    "a = int(input(\"Enter the number to find factorial of a number: \"))\n",
    "factorial(a)"
   ]
  },
  {
   "cell_type": "code",
   "execution_count": 15,
   "id": "459e8a7e",
   "metadata": {},
   "outputs": [
    {
     "name": "stdout",
     "output_type": "stream",
     "text": [
      "Enter the number for multiplication Table: 2\n",
      "2 x 1 = 2\n",
      "2 x 2 = 4\n",
      "2 x 3 = 6\n",
      "2 x 4 = 8\n",
      "2 x 5 = 10\n",
      "2 x 6 = 12\n",
      "2 x 7 = 14\n",
      "2 x 8 = 16\n",
      "2 x 9 = 18\n",
      "2 x 10 = 20\n",
      "2 x 11 = 22\n",
      "2 x 12 = 24\n",
      "2 x 13 = 26\n",
      "2 x 14 = 28\n",
      "2 x 15 = 30\n",
      "2 x 16 = 32\n",
      "2 x 17 = 34\n",
      "2 x 18 = 36\n",
      "2 x 19 = 38\n",
      "2 x 20 = 40\n"
     ]
    }
   ],
   "source": [
    "# 2. Write a Python Program to Display the multiplication Table?\n",
    "\n",
    "def mul_table(n):\n",
    "    for i in range(1,21): # Displaying multiplication table upto twenty numbers\n",
    "        c = n*i\n",
    "        print(n,\"x\",i,\"=\",c)\n",
    "a = int(input(\"Enter the number for multiplication Table: \"))\n",
    "mul_table(a)"
   ]
  },
  {
   "cell_type": "code",
   "execution_count": 44,
   "id": "bd9898d6",
   "metadata": {},
   "outputs": [
    {
     "name": "stdout",
     "output_type": "stream",
     "text": [
      "Enter the number to generate the fibonacci series: 10\n",
      "1\n",
      "1\n",
      "2\n",
      "3\n",
      "5\n",
      "8\n",
      "13\n",
      "21\n",
      "34\n",
      "55\n"
     ]
    }
   ],
   "source": [
    "# 3. Write a Python Program to Print the Fibonacci sequence?\n",
    "\n",
    "def fibonacci(n):\n",
    "    a =0; b =1\n",
    "    for i in range(n):\n",
    "        a,b = b, a+b\n",
    "        print(a)\n",
    "        \n",
    "a = int(input(\"Enter the number to generate the fibonacci series: \"))\n",
    "fibonacci(a)"
   ]
  },
  {
   "cell_type": "code",
   "execution_count": 30,
   "id": "34aa0ba3",
   "metadata": {},
   "outputs": [
    {
     "name": "stdout",
     "output_type": "stream",
     "text": [
      "Enter the number to check the armstrong Number: 371\n",
      "371\n",
      "The Number 371 is a Armstrong Number\n"
     ]
    }
   ],
   "source": [
    "# 4. Write a Python Program to Check Armstrong Number?\n",
    "\n",
    "def armstrong(n):\n",
    "    check = n\n",
    "    sum = 0\n",
    "    while n>0:\n",
    "        t   = n%10\n",
    "        sum = sum + t**3\n",
    "        n   = int(n/10)         # //operator also be used here to avoid the decimal values\n",
    "    print(sum)\n",
    "    \n",
    "    if sum == check:\n",
    "        print(\"The Number {} is a Armstrong Number\".format(check))\n",
    "    else:\n",
    "        print(\"The Number {} is not a Armstrong Number\".format(check))\n",
    "\n",
    "a = int(input(\"Enter the number to check the armstrong Number: \"))\n",
    "armstrong(a)"
   ]
  },
  {
   "cell_type": "code",
   "execution_count": 36,
   "id": "f8f98906",
   "metadata": {},
   "outputs": [
    {
     "name": "stdout",
     "output_type": "stream",
     "text": [
      "Enter the start value: 0\n",
      "Enter the end value: 1000\n",
      "The Armstrong numbers are  [0, 1, 153, 370, 371, 407]\n"
     ]
    }
   ],
   "source": [
    "# 5. Write a Python Program to Find Armstrong Number in an Interval?\n",
    "\n",
    "def armstrong(start, end):\n",
    "    l = []\n",
    "    for i in range(start,end):\n",
    "        check = i\n",
    "        sum = 0\n",
    "        while i>0:\n",
    "            t   = i%10\n",
    "            sum = sum + t**3\n",
    "            i   = int(i/10)         # //operator also be used here to avoid the decimal values\n",
    "        if sum == check:\n",
    "            l.append(check)\n",
    "    print(\"The Armstrong numbers are \", l)\n",
    "    \n",
    "a = int(input(\"Enter the start value: \"))\n",
    "b = int(input(\"Enter the end value: \"))\n",
    "\n",
    "armstrong(a,b)"
   ]
  },
  {
   "cell_type": "code",
   "execution_count": 42,
   "id": "219a6f6a",
   "metadata": {},
   "outputs": [
    {
     "name": "stdout",
     "output_type": "stream",
     "text": [
      "Enter the number to find the sum of natural numbers: 10\n"
     ]
    },
    {
     "data": {
      "text/plain": [
       "55"
      ]
     },
     "execution_count": 42,
     "metadata": {},
     "output_type": "execute_result"
    }
   ],
   "source": [
    "# 6. Write a Python Program to Find the Sum of Natural Numbers?\n",
    "\n",
    "def sum_nat(n):\n",
    "    c = 0\n",
    "    for i in range(n+1):\n",
    "        c = c + i\n",
    "    return c\n",
    "\n",
    "a = int(input(\"Enter the number to find the sum of natural numbers: \"))\n",
    "sum_nat(a)"
   ]
  }
 ],
 "metadata": {
  "kernelspec": {
   "display_name": "Python 3 (ipykernel)",
   "language": "python",
   "name": "python3"
  },
  "language_info": {
   "codemirror_mode": {
    "name": "ipython",
    "version": 3
   },
   "file_extension": ".py",
   "mimetype": "text/x-python",
   "name": "python",
   "nbconvert_exporter": "python",
   "pygments_lexer": "ipython3",
   "version": "3.9.7"
  }
 },
 "nbformat": 4,
 "nbformat_minor": 5
}
