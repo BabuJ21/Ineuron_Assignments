{
 "cells": [
  {
   "cell_type": "markdown",
   "id": "ba641b12",
   "metadata": {},
   "source": [
    "1. In the below elements which of them are values or an expression? eg:- values can be integer or string and expressions will be mathematical operators.\n",
    "\n",
    "*\n",
    "'hello'\n",
    "-87.8\n",
    "-\n",
    "/\n",
    "+\n",
    "6\n",
    "\n",
    "Answer:\n",
    "\n",
    "*  == Expression                                                           \n",
    "'hello' == Value                                            \n",
    "-87.8 == Value\n",
    "- == Expression\n",
    "/ == Expression\n",
    "+ == Expression\n",
    "6 == Value"
   ]
  },
  {
   "cell_type": "markdown",
   "id": "19bb24cb",
   "metadata": {},
   "source": [
    "2. What is the difference between string and variable?\n",
    "        Variables is used to store the data such as integer, string, float, complex etc.     \n",
    "        String is a datatype used to represent the text, words and sentences. It can be declared within the double quotes(\"\"). All strings can be used as variable."
   ]
  },
  {
   "cell_type": "markdown",
   "id": "24ec69e6",
   "metadata": {},
   "source": [
    "3. Describe three different data types.\n",
    "        Interger, Boolean and string"
   ]
  },
  {
   "cell_type": "markdown",
   "id": "fe9661ef",
   "metadata": {},
   "source": [
    "4. What is an expression made up of? What do all expressions do?\n",
    "        Expression is made up of operators and opeands to evaluate and produce an result value. All Expression will execute to produce a value as an output."
   ]
  },
  {
   "cell_type": "markdown",
   "id": "c69f3101",
   "metadata": {},
   "source": [
    "5. This assignment statements, like spam = 10. What is the difference between an expression and a statement?\n",
    "        Expression always evaluates to Produce or returns a result value. Every expression can’t be a statement.\t\n",
    "        statement always execute but may or may not produces or displays a result value, it only does whatever the statement says. Every statement can be an expression. "
   ]
  },
  {
   "cell_type": "markdown",
   "id": "be82a4b3",
   "metadata": {},
   "source": [
    "6. After running the following code, what does the variable bacon contain?\n",
    "bacon = 22\n",
    "bacon + 1\n",
    "\n",
    "Answer: 22 "
   ]
  },
  {
   "cell_type": "markdown",
   "id": "65c13032",
   "metadata": {},
   "source": [
    "7. What should the values of the following two terms be?\n",
    "'spam' + 'spamspam'\n",
    "'spam' * 3\n",
    "\n",
    "Answer: \n",
    "'spam' + 'spamspam'  = 'spamspamspam'\n",
    "'spam' * 3           = 'spamspamspam"
   ]
  },
  {
   "cell_type": "markdown",
   "id": "adadf084",
   "metadata": {},
   "source": [
    "8. Why is eggs a valid variable name while 100 is invalid?\n",
    "        A variable name must start with a letter or the underscore character. \n",
    "        A variable name cannot start with a number. So while declaring 100 as variable name it throws a error."
   ]
  },
  {
   "cell_type": "markdown",
   "id": "8fa04fc8",
   "metadata": {},
   "source": [
    "9. What three functions can be used to get the integer, floating-point number, or string\n",
    "version of a value?\n",
    "        str(), float(), int()"
   ]
  },
  {
   "cell_type": "markdown",
   "id": "b4f534de",
   "metadata": {},
   "source": [
    "10. Why does this expression cause an error? How can you fix it?\n",
    "'I have eaten' + 99 + 'burittos'\n",
    "\n",
    "Answer:  'I have eaten ' + str(99) + ' burittos'"
   ]
  }
 ],
 "metadata": {
  "kernelspec": {
   "display_name": "Python 3 (ipykernel)",
   "language": "python",
   "name": "python3"
  },
  "language_info": {
   "codemirror_mode": {
    "name": "ipython",
    "version": 3
   },
   "file_extension": ".py",
   "mimetype": "text/x-python",
   "name": "python",
   "nbconvert_exporter": "python",
   "pygments_lexer": "ipython3",
   "version": "3.9.7"
  }
 },
 "nbformat": 4,
 "nbformat_minor": 5
}
