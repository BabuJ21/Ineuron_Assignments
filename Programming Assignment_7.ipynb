{
 "cells": [
  {
   "cell_type": "markdown",
   "id": "d065d21c",
   "metadata": {},
   "source": [
    "# Programming Assignment_7"
   ]
  },
  {
   "cell_type": "code",
   "execution_count": 34,
   "id": "19019556",
   "metadata": {},
   "outputs": [
    {
     "name": "stdout",
     "output_type": "stream",
     "text": [
      "Enter the number of values for list: 4\n",
      "1\n",
      "2\n",
      "3\n",
      "4\n",
      "[1, 2, 3, 4]\n",
      "The sum of array of elements in list is  10\n"
     ]
    }
   ],
   "source": [
    "# 1. Write a Python Program to find sum of array?\n",
    "\n",
    "def sum_array(x):\n",
    "    count = 0\n",
    "    for i in x:\n",
    "        count = count+i\n",
    "    return count\n",
    "\n",
    "s = []\n",
    "a = int(input(\"Enter the number of values for list: \"))\n",
    "for i in range(0,a):\n",
    "    s.append(int(input()))\n",
    "print(s)\n",
    "print(\"The sum of array of elements in list is \",sum_array(s))"
   ]
  },
  {
   "cell_type": "code",
   "execution_count": 40,
   "id": "c2acc4cd",
   "metadata": {},
   "outputs": [
    {
     "name": "stdout",
     "output_type": "stream",
     "text": [
      "Enter the number of values for list: 10\n",
      "12\n",
      "1231\n",
      "2315463\n",
      "12312435436\n",
      "12312\n",
      "231\n",
      "12\n",
      "123\n",
      "1244\n",
      "12\n",
      "[12, 1231, 2315463, 12312435436, 12312, 231, 12, 123, 1244, 12]\n",
      "The largest element in an array is  12312435436\n"
     ]
    }
   ],
   "source": [
    "# 2. Write a Python Program to find largest element in an array?\n",
    "\n",
    "def large_element(x):\n",
    "    c = x[0] \n",
    "    for i in x:\n",
    "        if i > c:\n",
    "            c = i\n",
    "    return c\n",
    "\n",
    "s = []\n",
    "a = int(input(\"Enter the number of values for list: \"))\n",
    "for i in range(0,a):\n",
    "    s.append(int(input()))\n",
    "print(s)\n",
    "print(\"The largest element in an array is \",large_element(s))"
   ]
  },
  {
   "cell_type": "code",
   "execution_count": null,
   "id": "da51d075",
   "metadata": {},
   "outputs": [],
   "source": [
    "# 3. Write a Python Program for array rotation?\n",
    "\n"
   ]
  },
  {
   "cell_type": "code",
   "execution_count": null,
   "id": "53579893",
   "metadata": {},
   "outputs": [],
   "source": [
    "# 4. Write a Python Program to Split the array and add the first part to the end?\n",
    "\n"
   ]
  },
  {
   "cell_type": "code",
   "execution_count": null,
   "id": "76f878bb",
   "metadata": {},
   "outputs": [],
   "source": [
    "# 5. Write a Python Program to check if given array is Monotonic?\n",
    "\n"
   ]
  },
  {
   "cell_type": "code",
   "execution_count": null,
   "id": "0875e678",
   "metadata": {},
   "outputs": [],
   "source": []
  }
 ],
 "metadata": {
  "kernelspec": {
   "display_name": "Python 3 (ipykernel)",
   "language": "python",
   "name": "python3"
  },
  "language_info": {
   "codemirror_mode": {
    "name": "ipython",
    "version": 3
   },
   "file_extension": ".py",
   "mimetype": "text/x-python",
   "name": "python",
   "nbconvert_exporter": "python",
   "pygments_lexer": "ipython3",
   "version": "3.9.7"
  }
 },
 "nbformat": 4,
 "nbformat_minor": 5
}
